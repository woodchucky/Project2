{
 "cells": [
  {
   "cell_type": "code",
   "execution_count": 1,
   "metadata": {},
   "outputs": [
    {
     "data": {
      "text/plain": [
       "Matrix([\n",
       "[1, 0, 0,     0],\n",
       "[0, 1, 0,     0],\n",
       "[0, 0, 1, 0.303],\n",
       "[0, 0, 0,     1]])"
      ]
     },
     "execution_count": 1,
     "metadata": {},
     "output_type": "execute_result"
    }
   ],
   "source": [
    "import numpy as np\n",
    "from numpy import array\n",
    "from sympy import symbols, cos, sin, pi, simplify, sqrt, atan2, acos\n",
    "from sympy.matrices import Matrix\n",
    "\n",
    "q1, q2, q3, q4, q5, q6, q7 = symbols('q1:8')\n",
    "d1, d2, d3, d4, d5, d6, d7 = symbols('d1:8')\n",
    "a0, a1, a2, a3, a4, a5, a6 = symbols('a0:7')\n",
    "alpha0, alpha1, alpha2, alpha3, alpha4, alpha5, alpha6 = symbols('alpha0:7')\n",
    "\n",
    "#filled in q3 - q6 as zeros\n",
    "\n",
    "s = {alpha0:      0,   a0:     0, d1: 0.75,     q1: 0,   #the base is fixed to the ground\n",
    "     alpha1:  -pi/2,   a1:  0.35, d2:     0,    q2: -np.pi/2,  #was q2:  q2-pi/2\n",
    "     alpha2:      0,   a2:  1.25, d3:     0,    q3: 0,\n",
    "     alpha3:  -pi/2,   a3:-0.054, d4:  1.50,    q4: 0,\n",
    "     alpha4:   pi/2,   a4:     0, d5:     0,    q5: 0,\n",
    "     alpha5:  -pi/2,   a5:     0, d6:     0,    q6: 0,\n",
    "     alpha6:      0,   a6:     0, d7: 0.303,    q7: 0}\n",
    "\n",
    "T0_1 = Matrix([[             cos(q1),            -sin(q1),             0,              a0],\n",
    "              [ sin(q1)*cos(alpha0), cos(q1)*cos(alpha0),  -sin(alpha0),  -sin(alpha0)*d1],\n",
    "              [ sin(q1)*sin(alpha0), cos(q1)*sin(alpha0),   cos(alpha0),   cos(alpha0)*d1],\n",
    "              [                   0,                   0,             0,                1]])\n",
    "\n",
    "T0_1 = T0_1.subs(s)\n",
    "\n",
    "T1_2 = Matrix([[             cos(q2),            -sin(q2),             0,              a1],\n",
    "              [ sin(q2)*cos(alpha1), cos(q2)*cos(alpha1),  -sin(alpha1),  -sin(alpha1)*d2],\n",
    "              [ sin(q2)*sin(alpha1), cos(q2)*sin(alpha1),   cos(alpha1),   cos(alpha1)*d2],\n",
    "              [                   0,                   0,             0,                1]])\n",
    "\n",
    "T1_2 = T1_2.subs(s)\n",
    "\n",
    "T2_3 = Matrix([[             cos(q3),            -sin(q3),             0,              a2],\n",
    "              [ sin(q3)*cos(alpha2), cos(q3)*cos(alpha2),  -sin(alpha2),  -sin(alpha2)*d3],\n",
    "              [ sin(q3)*sin(alpha2), cos(q3)*sin(alpha2),   cos(alpha2),   cos(alpha2)*d3],\n",
    "              [                   0,                   0,             0,                1]])\n",
    "\n",
    "T2_3 = T2_3.subs(s)\n",
    "\n",
    "T3_4 = Matrix([[             cos(q4),            -sin(q4),             0,              a3],\n",
    "              [ sin(q4)*cos(alpha3), cos(q4)*cos(alpha3),  -sin(alpha3),  -sin(alpha3)*d4],\n",
    "              [ sin(q4)*sin(alpha3), cos(q4)*sin(alpha3),   cos(alpha3),   cos(alpha3)*d4],\n",
    "              [                   0,                   0,             0,                1]])\n",
    "\n",
    "T3_4 = T3_4.subs(s)\n",
    "\n",
    "T4_5 = Matrix([[             cos(q5),            -sin(q5),             0,              a4],\n",
    "              [ sin(q5)*cos(alpha4), cos(q5)*cos(alpha4),  -sin(alpha4),  -sin(alpha4)*d5],\n",
    "              [ sin(q5)*sin(alpha4), cos(q5)*sin(alpha4),   cos(alpha4),   cos(alpha4)*d5],\n",
    "              [                   0,                   0,             0,                1]])\n",
    "\n",
    "T4_5 = T4_5.subs(s)\n",
    "\n",
    "T5_6 = Matrix([[             cos(q6),            -sin(q6),             0,              a5],\n",
    "              [ sin(q6)*cos(alpha5), cos(q6)*cos(alpha5),  -sin(alpha5),  -sin(alpha5)*d6],\n",
    "              [ sin(q6)*sin(alpha5), cos(q6)*sin(alpha5),   cos(alpha5),   cos(alpha5)*d6],\n",
    "              [                   0,                   0,             0,                1]])\n",
    "\n",
    "T5_6 = T5_6.subs(s)\n",
    "\n",
    "T6_G = Matrix([[             cos(q7),            -sin(q7),             0,              a6],\n",
    "              [ sin(q7)*cos(alpha6), cos(q7)*cos(alpha6),  -sin(alpha6),  -sin(alpha6)*d7],\n",
    "              [ sin(q7)*sin(alpha6), cos(q7)*sin(alpha6),   cos(alpha6),   cos(alpha6)*d7],\n",
    "              [                   0,                   0,             0,                1]])\n",
    "\n",
    "T6_G = T6_G.subs(s)\n",
    "\n",
    "T0_2 = simplify(T0_1*T1_2)\n",
    "T0_3 = simplify(T0_2*T2_3)\n",
    "T0_4 = simplify(T0_3*T3_4)\n",
    "T0_5 = simplify(T0_4*T4_5)\n",
    "T0_6 = simplify(T0_5*T5_6)\n",
    "T0_G = simplify(T0_6*T6_G)\n",
    "T0_5 = T0_5.evalf()\n",
    "T0_6 = T0_6.evalf()\n",
    "T0_G = T0_G.evalf()\n",
    "\n",
    "R_z = Matrix([[    cos(np.pi),   -sin(np.pi),      0,       0],\n",
    "              [    sin(np.pi),    cos(np.pi),      0,       0],\n",
    "              [             0,             0,      1,       0],\n",
    "              [             0,             0,      0,       1]])\n",
    "\n",
    "R_y = Matrix([[ cos(-np.pi/2),             0, sin(-np.pi/2),    0],\n",
    "              [             0,             1,             0,    0],\n",
    "              [-sin(-np.pi/2),             0, cos(-np.pi/2),    0],\n",
    "              [             0,             0,             0,    1]])\n",
    "\n",
    "R_corr = simplify(R_z * R_y)\n",
    "\n",
    "# Can insert some error measuring codes here\n",
    "T_total = simplify(T0_G*R_corr)\n",
    "T6_G"
   ]
  },
  {
   "cell_type": "code",
   "execution_count": 2,
   "metadata": {},
   "outputs": [
    {
     "name": "stdout",
     "output_type": "stream",
     "text": [
      "Matrix([[1, 0, 0, 0], [0, 1, 0, 0], [0, 0, 1, 0.750000000000000], [0, 0, 0, 1]])\n"
     ]
    }
   ],
   "source": [
    "print(T0_1)"
   ]
  },
  {
   "cell_type": "code",
   "execution_count": 3,
   "metadata": {},
   "outputs": [
    {
     "data": {
      "text/plain": [
       "Matrix([\n",
       "[1, 0, 0,    0],\n",
       "[0, 1, 0,    0],\n",
       "[0, 0, 1, 0.75],\n",
       "[0, 0, 0,    1]])"
      ]
     },
     "execution_count": 3,
     "metadata": {},
     "output_type": "execute_result"
    }
   ],
   "source": [
    "T0_1"
   ]
  },
  {
   "cell_type": "code",
   "execution_count": 4,
   "metadata": {},
   "outputs": [
    {
     "data": {
      "text/plain": [
       "Matrix([\n",
       "[6.12323399573677e-17,                   1.0, 0, 0.35],\n",
       "[                   0,                     0, 1,    0],\n",
       "[                 1.0, -6.12323399573677e-17, 0, 0.75],\n",
       "[                   0,                     0, 0,    1]])"
      ]
     },
     "execution_count": 4,
     "metadata": {},
     "output_type": "execute_result"
    }
   ],
   "source": [
    "T0_2"
   ]
  },
  {
   "cell_type": "code",
   "execution_count": 5,
   "metadata": {},
   "outputs": [
    {
     "data": {
      "text/plain": [
       "Matrix([\n",
       "[6.12323399573677e-17,                   1.0, 0, 0.35],\n",
       "[                   0,                     0, 1,    0],\n",
       "[                 1.0, -6.12323399573677e-17, 0,  2.0],\n",
       "[                   0,                     0, 0,    1]])"
      ]
     },
     "execution_count": 5,
     "metadata": {},
     "output_type": "execute_result"
    }
   ],
   "source": [
    "T0_3"
   ]
  },
  {
   "cell_type": "code",
   "execution_count": 6,
   "metadata": {},
   "outputs": [
    {
     "data": {
      "text/plain": [
       "Matrix([\n",
       "[6.12323399573677e-17,  0,                   1.0,  1.85],\n",
       "[                   0, -1,                     0,     0],\n",
       "[                 1.0,  0, -6.12323399573677e-17, 1.946],\n",
       "[                   0,  0,                     0,     1]])"
      ]
     },
     "execution_count": 6,
     "metadata": {},
     "output_type": "execute_result"
    }
   ],
   "source": [
    "T0_4"
   ]
  },
  {
   "cell_type": "code",
   "execution_count": 7,
   "metadata": {},
   "outputs": [
    {
     "data": {
      "text/plain": [
       "Matrix([\n",
       "[6.12323399573677e-17,                   1.0,   0,  1.85],\n",
       "[                   0,                     0, 1.0,     0],\n",
       "[                 1.0, -6.12323399573677e-17,   0, 1.946],\n",
       "[                   0,                     0,   0,   1.0]])"
      ]
     },
     "execution_count": 7,
     "metadata": {},
     "output_type": "execute_result"
    }
   ],
   "source": [
    "T0_5"
   ]
  },
  {
   "cell_type": "code",
   "execution_count": 8,
   "metadata": {},
   "outputs": [
    {
     "data": {
      "text/plain": [
       "Matrix([\n",
       "[6.12323399573677e-17,    0,                   1.0,  1.85],\n",
       "[                   0, -1.0,                     0,     0],\n",
       "[                 1.0,    0, -6.12323399573677e-17, 1.946],\n",
       "[                   0,    0,                     0,   1.0]])"
      ]
     },
     "execution_count": 8,
     "metadata": {},
     "output_type": "execute_result"
    }
   ],
   "source": [
    "T0_6"
   ]
  },
  {
   "cell_type": "code",
   "execution_count": 9,
   "metadata": {},
   "outputs": [
    {
     "data": {
      "text/plain": [
       "Matrix([\n",
       "[6.12323399573677e-17,    0,                   1.0, 2.153],\n",
       "[                   0, -1.0,                     0,     0],\n",
       "[                 1.0,    0, -6.12323399573677e-17, 1.946],\n",
       "[                   0,    0,                     0,   1.0]])"
      ]
     },
     "execution_count": 9,
     "metadata": {},
     "output_type": "execute_result"
    }
   ],
   "source": [
    "T0_G"
   ]
  },
  {
   "cell_type": "code",
   "execution_count": 10,
   "metadata": {},
   "outputs": [
    {
     "data": {
      "text/plain": [
       "Matrix([\n",
       "[                  1.0, -7.49879891330929e-33, 1.22464679914735e-16, 2.153],\n",
       "[-7.49879891330929e-33,                   1.0, 1.22464679914735e-16,     0],\n",
       "[-1.22464679914735e-16, -1.22464679914735e-16,                  1.0, 1.946],\n",
       "[                    0,                     0,                    0,   1.0]])"
      ]
     },
     "execution_count": 10,
     "metadata": {},
     "output_type": "execute_result"
    }
   ],
   "source": [
    "T_total"
   ]
  },
  {
   "cell_type": "code",
   "execution_count": null,
   "metadata": {
    "collapsed": true
   },
   "outputs": [],
   "source": []
  },
  {
   "cell_type": "code",
   "execution_count": null,
   "metadata": {
    "collapsed": true
   },
   "outputs": [],
   "source": []
  },
  {
   "cell_type": "code",
   "execution_count": null,
   "metadata": {
    "collapsed": true
   },
   "outputs": [],
   "source": []
  }
 ],
 "metadata": {
  "kernelspec": {
   "display_name": "Python 3",
   "language": "python",
   "name": "python3"
  },
  "language_info": {
   "codemirror_mode": {
    "name": "ipython",
    "version": 3
   },
   "file_extension": ".py",
   "mimetype": "text/x-python",
   "name": "python",
   "nbconvert_exporter": "python",
   "pygments_lexer": "ipython3",
   "version": "3.5.2"
  },
  "widgets": {
   "state": {},
   "version": "1.1.2"
  }
 },
 "nbformat": 4,
 "nbformat_minor": 2
}
