{
 "cells": [
  {
   "cell_type": "code",
   "execution_count": 91,
   "metadata": {
    "collapsed": true
   },
   "outputs": [],
   "source": [
    "import numpy as np\n",
    "from numpy import array\n",
    "from sympy import symbols, cos, sin, pi, simplify, sqrt, atan2, acos\n",
    "from sympy.matrices import Matrix\n",
    "\n",
    "q1, q2, q3, q4, q5, q6, q7 = symbols('q1:8')\n",
    "d1, d2, d3, d4, d5, d6, d7 = symbols('d1:8')\n",
    "a0, a1, a2, a3, a4, a5, a6 = symbols('a0:7')\n",
    "alpha0, alpha1, alpha2, alpha3, alpha4, alpha5, alpha6 = symbols('alpha0:7')\n",
    "\n",
    "#filled in q3 - q6 as zeros\n",
    "\n",
    "s = {alpha0:      0,   a0:     0, d1: 0.75,     q1: .4,   #the base is fixed to the ground\n",
    "     alpha1:  -pi/2,   a1:  0.35, d2:     0,    q2: -.8,  #was q2:  q2-pi/2\n",
    "     alpha2:      0,   a2:  1.25, d3:     0,    q3: .7,\n",
    "     alpha3:  -pi/2,   a3:-0.054, d4:  1.50,    q4: 1,\n",
    "     alpha4:   pi/2,   a4:     0, d5:     0,    q5: 1.3,\n",
    "     alpha5:  -pi/2,   a5:     0, d6:     0,    q6: .6,\n",
    "     alpha6:      0,   a6:     0, d7: 0.303,    q7: 0}\n",
    "\n",
    "T0_1 = Matrix([[             cos(q1),            -sin(q1),             0,              a0],\n",
    "              [ sin(q1)*cos(alpha0), cos(q1)*cos(alpha0),  -sin(alpha0),  -sin(alpha0)*d1],\n",
    "              [ sin(q1)*sin(alpha0), cos(q1)*sin(alpha0),   cos(alpha0),   cos(alpha0)*d1],\n",
    "              [                   0,                   0,             0,                1]])\n",
    "\n",
    "T0_1 = T0_1.subs(s)\n",
    "\n",
    "T1_2 = Matrix([[             cos(q2),            -sin(q2),             0,              a1],\n",
    "              [ sin(q2)*cos(alpha1), cos(q2)*cos(alpha1),  -sin(alpha1),  -sin(alpha1)*d2],\n",
    "              [ sin(q2)*sin(alpha1), cos(q2)*sin(alpha1),   cos(alpha1),   cos(alpha1)*d2],\n",
    "              [                   0,                   0,             0,                1]])\n",
    "\n",
    "T1_2 = T1_2.subs(s)\n",
    "\n",
    "T2_3 = Matrix([[             cos(q3),            -sin(q3),             0,              a2],\n",
    "              [ sin(q3)*cos(alpha2), cos(q3)*cos(alpha2),  -sin(alpha2),  -sin(alpha2)*d3],\n",
    "              [ sin(q3)*sin(alpha2), cos(q3)*sin(alpha2),   cos(alpha2),   cos(alpha2)*d3],\n",
    "              [                   0,                   0,             0,                1]])\n",
    "\n",
    "T2_3 = T2_3.subs(s)\n",
    "\n",
    "T3_4 = Matrix([[             cos(q4),            -sin(q4),             0,              a3],\n",
    "              [ sin(q4)*cos(alpha3), cos(q4)*cos(alpha3),  -sin(alpha3),  -sin(alpha3)*d4],\n",
    "              [ sin(q4)*sin(alpha3), cos(q4)*sin(alpha3),   cos(alpha3),   cos(alpha3)*d4],\n",
    "              [                   0,                   0,             0,                1]])\n",
    "\n",
    "T3_4 = T3_4.subs(s)\n",
    "\n",
    "T4_5 = Matrix([[             cos(q5),            -sin(q5),             0,              a4],\n",
    "              [ sin(q5)*cos(alpha4), cos(q5)*cos(alpha4),  -sin(alpha4),  -sin(alpha4)*d5],\n",
    "              [ sin(q5)*sin(alpha4), cos(q5)*sin(alpha4),   cos(alpha4),   cos(alpha4)*d5],\n",
    "              [                   0,                   0,             0,                1]])\n",
    "\n",
    "T4_5 = T4_5.subs(s)\n",
    "\n",
    "T5_6 = Matrix([[             cos(q6),            -sin(q6),             0,              a5],\n",
    "              [ sin(q6)*cos(alpha5), cos(q6)*cos(alpha5),  -sin(alpha5),  -sin(alpha5)*d6],\n",
    "              [ sin(q6)*sin(alpha5), cos(q6)*sin(alpha5),   cos(alpha5),   cos(alpha5)*d6],\n",
    "              [                   0,                   0,             0,                1]])\n",
    "\n",
    "T5_6 = T5_6.subs(s)\n",
    "\n",
    "T6_G = Matrix([[             cos(q7),            -sin(q7),             0,              a6],\n",
    "              [ sin(q7)*cos(alpha6), cos(q7)*cos(alpha6),  -sin(alpha6),  -sin(alpha6)*d7],\n",
    "              [ sin(q7)*sin(alpha6), cos(q7)*sin(alpha6),   cos(alpha6),   cos(alpha6)*d7],\n",
    "              [                   0,                   0,             0,                1]])\n",
    "\n",
    "T6_G = T6_G.subs(s)\n",
    "\n",
    "T0_2 = simplify(T0_1*T1_2)\n",
    "T0_3 = simplify(T0_2*T2_3)\n",
    "T0_4 = simplify(T0_3*T3_4)\n",
    "T0_5 = simplify(T0_4*T4_5)\n",
    "T0_6 = simplify(T0_5*T5_6)\n",
    "T0_G = simplify(T0_6*T6_G)\n",
    "T0_5 = T0_5.evalf()\n",
    "T0_6 = T0_6.evalf()\n",
    "T0_G = T0_G.evalf()\n",
    "\n",
    "R_z = Matrix([[    cos(np.pi),   -sin(np.pi),      0,       0],\n",
    "              [    sin(np.pi),    cos(np.pi),      0,       0],\n",
    "              [             0,             0,      1,       0],\n",
    "              [             0,             0,      0,       1]])\n",
    "\n",
    "R_y = Matrix([[ cos(-np.pi/2),             0, sin(-np.pi/2),    0],\n",
    "              [             0,             1,             0,    0],\n",
    "              [-sin(-np.pi/2),             0, cos(-np.pi/2),    0],\n",
    "              [             0,             0,             0,    1]])\n",
    "\n",
    "R_corr = simplify(R_z * R_y)\n",
    "\n",
    "# Can insert some error measuring codes here\n",
    "T_total = simplify(T0_G*R_corr)\n"
   ]
  },
  {
   "cell_type": "code",
   "execution_count": 92,
   "metadata": {},
   "outputs": [
    {
     "name": "stdout",
     "output_type": "stream",
     "text": [
      "Matrix([[0.921060994002885, -0.389418342308651, 0, 0], [0.389418342308651, 0.921060994002885, 0, 0], [0, 0, 1, 0.750000000000000], [0, 0, 0, 1]])\n"
     ]
    }
   ],
   "source": [
    "print(T0_1)"
   ]
  },
  {
   "cell_type": "code",
   "execution_count": 93,
   "metadata": {},
   "outputs": [
    {
     "data": {
      "text/plain": [
       "Matrix([\n",
       "[0.921060994002885, -0.389418342308651, 0,    0],\n",
       "[0.389418342308651,  0.921060994002885, 0,    0],\n",
       "[                0,                  0, 1, 0.75],\n",
       "[                0,                  0, 0,    1]])"
      ]
     },
     "execution_count": 93,
     "metadata": {},
     "output_type": "execute_result"
    }
   ],
   "source": [
    "T0_1"
   ]
  },
  {
   "cell_type": "code",
   "execution_count": 94,
   "metadata": {},
   "outputs": [
    {
     "data": {
      "text/plain": [
       "Matrix([\n",
       "[0.641709374239779,  0.660728714137938, -0.389418342308651,  0.32237134790101],\n",
       "[0.271310371829288,  0.279351619763106,  0.921060994002885, 0.136296419808028],\n",
       "[0.717356090899523, -0.696706709347165,                  0,              0.75],\n",
       "[                0,                  0,                  0,                 1]])"
      ]
     },
     "execution_count": 94,
     "metadata": {},
     "output_type": "execute_result"
    }
   ],
   "source": [
    "T0_2"
   ]
  },
  {
   "cell_type": "code",
   "execution_count": 95,
   "metadata": {},
   "outputs": [
    {
     "data": {
      "text/plain": [
       "Matrix([\n",
       "[ 0.916459525507989, 0.0919526659714318, -0.389418342308651,  1.12450806570073],\n",
       "[ 0.387472872632771, 0.0388769636176167,  0.921060994002885, 0.475434384594638],\n",
       "[0.0998334166468283, -0.995004165278026,                  0,   1.6466951136244],\n",
       "[                 0,                  0,                  0,                 1]])"
      ]
     },
     "execution_count": 95,
     "metadata": {},
     "output_type": "execute_result"
    }
   ],
   "source": [
    "T0_3"
   ]
  },
  {
   "cell_type": "code",
   "execution_count": 96,
   "metadata": {},
   "outputs": [
    {
     "data": {
      "text/plain": [
       "Matrix([\n",
       "[ 0.389418342308651*sin(1) + 0.916459525507989*cos(1), -0.916459525507989*sin(1) + 0.389418342308651*cos(1), 0.0919526659714318,  1.21294825028045],\n",
       "[-0.921060994002885*sin(1) + 0.387472872632771*cos(1), -0.921060994002885*cos(1) - 0.387472872632771*sin(1), 0.0388769636176167, 0.512826294898893],\n",
       "[                           0.0998334166468283*cos(1),                           -0.0998334166468283*sin(1), -0.995004165278026, 0.148797861208436],\n",
       "[                                                   0,                                                    0,                  0,                 1]])"
      ]
     },
     "execution_count": 96,
     "metadata": {},
     "output_type": "execute_result"
    }
   ],
   "source": [
    "T0_4"
   ]
  },
  {
   "cell_type": "code",
   "execution_count": 101,
   "metadata": {},
   "outputs": [
    {
     "data": {
      "text/plain": [
       "Matrix([\n",
       "[ 0.308713002860243, -0.768266074045853,  0.560770471169073,  1.21294825028045],\n",
       "[-0.113862162894285,  0.555478255541241,  0.823698558625602, 0.512826294898893],\n",
       "[-0.944315460916556, -0.318136994219521, 0.0840069234225436, 0.148797861208436],\n",
       "[                 0,                  0,                  0,               1.0]])"
      ]
     },
     "execution_count": 101,
     "metadata": {},
     "output_type": "execute_result"
    }
   ],
   "source": [
    "T0_5"
   ]
  },
  {
   "cell_type": "code",
   "execution_count": 102,
   "metadata": {},
   "outputs": [
    {
     "data": {
      "text/plain": [
       "Matrix([\n",
       "[-0.0618429898015333, -0.637136315149733, -0.768266074045853,  1.21294825028045],\n",
       "[ -0.559069689701587, -0.615536343100739,  0.555478255541241, 0.512826294898893],\n",
       "[ -0.826811058627894,  0.463866711717482, -0.318136994219521, 0.148797861208436],\n",
       "[                  0,                  0,                  0,               1.0]])"
      ]
     },
     "execution_count": 102,
     "metadata": {},
     "output_type": "execute_result"
    }
   ],
   "source": [
    "T0_6"
   ]
  },
  {
   "cell_type": "code",
   "execution_count": 99,
   "metadata": {},
   "outputs": [
    {
     "data": {
      "text/plain": [
       "Matrix([\n",
       "[-0.0618429898015333, -0.637136315149733, -0.768266074045853,  0.980163629844557],\n",
       "[ -0.559069689701587, -0.615536343100739,  0.555478255541241,  0.681136206327889],\n",
       "[ -0.826811058627894,  0.463866711717482, -0.318136994219521, 0.0524023519599212],\n",
       "[                  0,                  0,                  0,                1.0]])"
      ]
     },
     "execution_count": 99,
     "metadata": {},
     "output_type": "execute_result"
    }
   ],
   "source": [
    "T0_G"
   ]
  },
  {
   "cell_type": "code",
   "execution_count": 72,
   "metadata": {},
   "outputs": [
    {
     "data": {
      "text/plain": [
       "Matrix([\n",
       "[-0.958744407977843*cos(1) + 1.80049921621119e-17*sin(1) + 0.0267053220106169,    0.0284276566463845 + 0.078656381841901*cos(1) + 0.950563785922063*sin(1), -0.294043836551856*sin(1) + 0.0918988857020788 + 0.254274699267105*cos(1),     -0.290499555617286*cos(1) + 1.3249949992984],\n",
       "[                      1.80953937585587e-17*cos(1) + 0.963558185417193*sin(1),                       -0.0790513091168043*sin(1) + 0.955336489125606*cos(1),                      -0.255551391783425*sin(1) - 0.295520206661339*cos(1),                        0.291958130181409*sin(1)],\n",
       "[ -0.266162448688457 - 0.0961953057882164*cos(1) + 1.8065249844866e-18*sin(1), -0.283328345581016 + 0.00789196227953514*cos(1) + 0.0953745057567947*sin(1), -0.91592351668636 - 0.0295027919191783*sin(1) + 0.0255125685705916*cos(1), -0.0291471776538296*cos(1) + 0.0681506392558337],\n",
       "[                                                                           0,                                                                           0,                                                                         0,                                               1]])"
      ]
     },
     "execution_count": 72,
     "metadata": {},
     "output_type": "execute_result"
    }
   ],
   "source": [
    "T_total"
   ]
  },
  {
   "cell_type": "code",
   "execution_count": null,
   "metadata": {
    "collapsed": true
   },
   "outputs": [],
   "source": []
  },
  {
   "cell_type": "code",
   "execution_count": null,
   "metadata": {
    "collapsed": true
   },
   "outputs": [],
   "source": []
  }
 ],
 "metadata": {
  "kernelspec": {
   "display_name": "Python 3",
   "language": "python",
   "name": "python3"
  },
  "language_info": {
   "codemirror_mode": {
    "name": "ipython",
    "version": 3
   },
   "file_extension": ".py",
   "mimetype": "text/x-python",
   "name": "python",
   "nbconvert_exporter": "python",
   "pygments_lexer": "ipython3",
   "version": "3.5.2"
  },
  "widgets": {
   "state": {},
   "version": "1.1.2"
  }
 },
 "nbformat": 4,
 "nbformat_minor": 2
}
