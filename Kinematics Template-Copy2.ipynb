{
 "cells": [
  {
   "cell_type": "code",
   "execution_count": 2,
   "metadata": {
    "collapsed": true
   },
   "outputs": [],
   "source": [
    "# must add in later:     !/usr/bin/env python\n",
    "\n",
    "import numpy as np\n",
    "from numpy import array\n",
    "from sympy import symbols, cos, sin, pi, simplify, sqrt, atan2, acos\n",
    "from sympy.matrices import Matrix\n",
    "\n",
    "q1, q2, q3, q4, q5, q6, q7 = symbols('q1:8')\n",
    "d1, d2, d3, d4, d5, d6, d7 = symbols('d1:8')\n",
    "a0, a1, a2, a3, a4, a5, a6 = symbols('a0:7')\n",
    "alpha0, alpha1, alpha2, alpha3, alpha4, alpha5, alpha6 = symbols('alpha0:7')\n",
    "\n",
    "#filled in q3 - q6 as zeros\n",
    "\n",
    "s = {alpha0:      0,   a0:     0, d1: 0.75,     q1: 0,   #the base is fixed to the ground\n",
    "     alpha1:  -pi/2,   a1:  0.35, d2:     0,    q2: - np.pi/2,  #was q2:  q2-pi/2\n",
    "     alpha2:      0,   a2:  1.25, d3:     0,    q3: 0,\n",
    "     alpha3:  -pi/2,   a3:-0.054, d4:  1.50,    q4: 0,\n",
    "     alpha4:   pi/2,   a4:     0, d5:     0,    q5: 0,\n",
    "     alpha5:  -pi/2,   a5:     0, d6:     0,    q6: 0,\n",
    "     alpha6:      0,   a6:     0, d7: 0.303,    q7: 0}\n",
    "\n",
    "T0_1 = Matrix([[             cos(q1),            -sin(q1),             0,              a0],\n",
    "              [ sin(q1)*cos(alpha0), cos(q1)*cos(alpha0),  -sin(alpha0),  -sin(alpha0)*d1],\n",
    "              [ sin(q1)*sin(alpha0), cos(q1)*sin(alpha0),   cos(alpha0),   cos(alpha0)*d1],\n",
    "              [                   0,                   0,             0,                1]])\n",
    "\n",
    "T0_1 = T0_1.subs(s)\n",
    "\n",
    "T1_2 = Matrix([[             cos(q2),            -sin(q2),             0,              a1],\n",
    "              [ sin(q2)*cos(alpha1), cos(q2)*cos(alpha1),  -sin(alpha1),  -sin(alpha1)*d2],\n",
    "              [ sin(q2)*sin(alpha1), cos(q2)*sin(alpha1),   cos(alpha1),   cos(alpha1)*d2],\n",
    "              [                   0,                   0,             0,                1]])\n",
    "\n",
    "T1_2 = T1_2.subs(s)\n",
    "\n",
    "T2_3 = Matrix([[             cos(q3),            -sin(q3),             0,              a2],\n",
    "              [ sin(q3)*cos(alpha2), cos(q3)*cos(alpha2),  -sin(alpha2),  -sin(alpha2)*d3],\n",
    "              [ sin(q3)*sin(alpha2), cos(q3)*sin(alpha2),   cos(alpha2),   cos(alpha2)*d3],\n",
    "              [                   0,                   0,             0,                1]])\n",
    "\n",
    "T2_3 = T2_3.subs(s)\n",
    "\n",
    "T3_4 = Matrix([[             cos(q4),            -sin(q4),             0,              a3],\n",
    "              [ sin(q4)*cos(alpha3), cos(q4)*cos(alpha3),  -sin(alpha3),  -sin(alpha3)*d4],\n",
    "              [ sin(q4)*sin(alpha3), cos(q4)*sin(alpha3),   cos(alpha3),   cos(alpha3)*d4],\n",
    "              [                   0,                   0,             0,                1]])\n",
    "\n",
    "T3_4 = T3_4.subs(s)\n",
    "\n",
    "T4_5 = Matrix([[             cos(q5),            -sin(q5),             0,              a4],\n",
    "              [ sin(q5)*cos(alpha4), cos(q5)*cos(alpha4),  -sin(alpha4),  -sin(alpha4)*d5],\n",
    "              [ sin(q5)*sin(alpha4), cos(q5)*sin(alpha4),   cos(alpha4),   cos(alpha4)*d5],\n",
    "              [                   0,                   0,             0,                1]])\n",
    "\n",
    "T4_5 = T4_5.subs(s)\n",
    "\n",
    "T5_6 = Matrix([[             cos(q6),            -sin(q6),             0,              a5],\n",
    "              [ sin(q6)*cos(alpha5), cos(q6)*cos(alpha5),  -sin(alpha5),  -sin(alpha5)*d6],\n",
    "              [ sin(q6)*sin(alpha5), cos(q6)*sin(alpha5),   cos(alpha5),   cos(alpha5)*d6],\n",
    "              [                   0,                   0,             0,                1]])\n",
    "\n",
    "T5_6 = T5_6.subs(s)\n",
    "\n",
    "T6_G = Matrix([[             cos(q7),            -sin(q7),             0,              a6],\n",
    "              [ sin(q7)*cos(alpha6), cos(q7)*cos(alpha6),  -sin(alpha6),  -sin(alpha6)*d7],\n",
    "              [ sin(q7)*sin(alpha6), cos(q7)*sin(alpha6),   cos(alpha6),   cos(alpha6)*d7],\n",
    "              [                   0,                   0,             0,                1]])\n",
    "\n",
    "T6_G = T6_G.subs(s)\n",
    "\n",
    "T0_2 = simplify(T0_1*T1_2)\n",
    "T0_3 = simplify(T0_2*T2_3)\n",
    "T0_4 = simplify(T0_3*T3_4)\n",
    "T0_5 = simplify(T0_4*T4_5)\n",
    "T0_6 = simplify(T0_5*T5_6)\n",
    "T0_G = simplify(T0_6*T6_G)\n",
    "\n",
    "R_z = Matrix([[    cos(np.pi),   -sin(np.pi),      0,       0],\n",
    "              [    sin(np.pi),    cos(np.pi),      0,       0],\n",
    "              [             0,             0,      1,       0],\n",
    "              [             0,             0,      0,       1]])\n",
    "\n",
    "R_y = Matrix([[ cos(-np.pi/2),             0, sin(-np.pi/2),    0],\n",
    "              [             0,             1,             0,    0],\n",
    "              [-sin(-np.pi/2),             0, cos(-np.pi/2),    0],\n",
    "              [             0,             0,             0,    1]])\n",
    "\n",
    "R_corr = simplify(R_z * R_y)\n",
    "\n",
    "# Can insert some error measuring codes here\n",
    "T_total = simplify(T0_G*R_corr)\n",
    "\n",
    "#My testing code below:\n",
    "#Identity = M\n",
    "#print(T0_4)"
   ]
  },
  {
   "cell_type": "code",
   "execution_count": 4,
   "metadata": {},
   "outputs": [
    {
     "ename": "NameError",
     "evalue": "name 'Y' is not defined",
     "output_type": "error",
     "traceback": [
      "\u001b[1;31m---------------------------------------------------------------------------\u001b[0m",
      "\u001b[1;31mNameError\u001b[0m                                 Traceback (most recent call last)",
      "\u001b[1;32m<ipython-input-4-d66324f68baa>\u001b[0m in \u001b[0;36m<module>\u001b[1;34m()\u001b[0m\n\u001b[1;32m----> 1\u001b[1;33m \u001b[0mY\u001b[0m\u001b[1;33m*\u001b[0m\u001b[0mP\u001b[0m\u001b[1;33m*\u001b[0m\u001b[0mR\u001b[0m\u001b[1;33m*\u001b[0m\u001b[0mR_corr\u001b[0m\u001b[1;33m.\u001b[0m\u001b[0mT\u001b[0m\u001b[1;33m\u001b[0m\u001b[0m\n\u001b[0m",
      "\u001b[1;31mNameError\u001b[0m: name 'Y' is not defined"
     ]
    }
   ],
   "source": []
  },
  {
   "cell_type": "code",
   "execution_count": 5,
   "metadata": {},
   "outputs": [
    {
     "data": {
      "text/plain": [
       "Matrix([\n",
       "[ 0.465195145589723,  -0.88514346865333, 0.0107012345132777],\n",
       "[-0.562559850892265, -0.286281429692164,  0.775609023398699],\n",
       "[-0.683461696574014, -0.366829637452813,  -0.63112290910916]])"
      ]
     },
     "execution_count": 5,
     "metadata": {},
     "output_type": "execute_result"
    }
   ],
   "source": [
    "#Here we are working on the R6_0 matrix which rotates the 6 Frame to be \n",
    "#aligned with the 0 Frame.  It should be the transpose of the yaw*pitch*roll\n",
    "#matrix, which is T(roll)*T(pitch)*T(yaw)as below: (assumes these are in radians)\n",
    "\n",
    "#yaw, pitch, and roll are returned by the program\n",
    "\n",
    "#roll = 0\n",
    "#pitch = 0\n",
    "#yaw = 0\n",
    "yaw, pitch, roll = symbols('yaw pitch roll')\n",
    "yaw = 1.557\n",
    "pitch = 0.683\n",
    "roll = 2.649\n",
    "#yaw = np.pi/2\n",
    "#pitch = 0\n",
    "\n",
    "Y = Matrix([[cos(yaw),  -sin(yaw),    0],\n",
    "            [sin(yaw),   cos(yaw),    0],\n",
    "            [       0,          0,    1]])\n",
    "\n",
    "\n",
    "P = Matrix([[cos(pitch),        0,    sin(pitch)],\n",
    "            [         0,        1,    0],\n",
    "            [-sin(pitch),       0,    cos(pitch)]])\n",
    "\n",
    "R = Matrix([[         1,        0,     0],\n",
    "            [         0,cos(roll),    -sin(roll)],\n",
    "            [         0,sin(roll),     cos(roll)]])\n",
    "\n",
    "\n",
    "R6_0 = (Y*P*R)*R_corr[0:3, 0:3].T\n",
    "#R0_6=Y*P*R\n",
    "#R6_0 = R0_6.T\n",
    "\n",
    "# Also could have said R6_0 = Y*P*R, and R0_6 = R6_0.T\n",
    "#Y*P*R\n",
    "R6_0"
   ]
  },
  {
   "cell_type": "code",
   "execution_count": 17,
   "metadata": {},
   "outputs": [
    {
     "name": "stdout",
     "output_type": "stream",
     "text": [
      "1.95571404854478 0 1.33923024146008\n",
      "1.71041219685349 2.39250914313822\n",
      "0.238793668159834\n",
      "0.199116669328523\n",
      "1.37167965746637\n",
      "2.20076421271180\n",
      "1.71041219685349\n",
      "0.404667584932112\n"
     ]
    },
    {
     "data": {
      "text/plain": [
       "Matrix([\n",
       "[ 1.79775752594248],\n",
       "[0.769990465910194],\n",
       "[ 1.33923024146008]])"
      ]
     },
     "execution_count": 17,
     "metadata": {},
     "output_type": "execute_result"
    }
   ],
   "source": [
    "\n",
    "\n",
    "#Here we calculate the vector 0rWC/0, or the vector from the origin (base\n",
    "#of robot) to the WC (which is joint 5).  Program returns px, py, pz. \n",
    "#d = .0375 (length from J6 to ee) + .193 (length from J5 to J6)\n",
    "\n",
    "#px = 2.153\n",
    "#py = 0\n",
    "#pz = 1.946\n",
    "\n",
    "px = 1.801\n",
    "py = 1.005\n",
    "pz = 1.148\n",
    "\n",
    "#d = .0375 + .193\n",
    "#d=.0375\n",
    "#d=.193\n",
    "d=.303\n",
    "\n",
    "\n",
    "rwc0 = Matrix([px,  py,  pz]) - d*R6_0*Matrix([0, 0, 1])\n",
    "rwc0x = rwc0[0, 0]\n",
    "rwc0y = rwc0[1, 0]\n",
    "rwc0z = rwc0[2, 0]\n",
    "\n",
    "# Here we calculate the length of Link3 - this only needs to be done once\n",
    "# so it should be moved up higher\n",
    "\n",
    "L3 = sqrt(.054**2 + 1.5**2)\n",
    "\n",
    "#List lengths of all links for trigonometry calculations\n",
    "L2 = 1.25\n",
    "L34 = 1.5  #approximately\n",
    "\n",
    "#calculate rotation at joint 1, angles\n",
    "\n",
    "theta1 = atan2(rwc0y, rwc0x)\n",
    "\n",
    "#This moves everything into the x,z plane, so that rwc0y == 0 now.\n",
    "#.  But this will change the x and z coordinates with a rotation around the\n",
    "# z-axis of the origin by theta1.  So must recalculate the \n",
    "# relative coordinates of the rwc0 using -theta1 because it is like doing a\n",
    "# clockwise rotation around the fixed coordinates:\n",
    "\n",
    "\n",
    "Zrot = Matrix([[cos(-theta1),  -sin(-theta1),    0],\n",
    "            [sin(-theta1),   cos(-theta1),    0],\n",
    "            [       0,          0,    1]])\n",
    "\n",
    "rwc0new = Zrot*rwc0\n",
    "\n",
    "# and now we are only interested in the x, z coordinates because only these\n",
    "# determine the remaining angles:\n",
    "\n",
    "rwc0newx = rwc0new[0, 0]\n",
    "rwc0newy = rwc0new[1, 0]\n",
    "rwc0newz = rwc0new[2, 0]\n",
    "\n",
    "#need to rename for convenience\n",
    "\n",
    "newx = rwc0newx\n",
    "newz = rwc0newz\n",
    "\n",
    "#the location of Joint2 in (x, z) is (.35, .75) according URDF.  We now\n",
    "# use the distance formula to obtain the distance between J2 and WC:\n",
    "\n",
    "dst1 = sqrt((newx - .35)**2 + (newz - .75)**2)\n",
    "dst1ch = sqrt(2.04**2 + 1.25**2)\n",
    "\n",
    "#Since there must be a triangle with sides L2, L3, and dst1 we can use the\n",
    "#law of cosines to determine the needed angle at Joint3:\n",
    "\n",
    "theta3 = acos((dst1**2 - L2**2 - L34**2)/(-2*L2*L34))\n",
    "\n",
    "#Because of the configuration of the zero angle, must make an adjustment to theta3\n",
    "# The negative sign is because of the position of the Z axis\n",
    "\n",
    "theta3 = -(theta3 - np.pi/2)\n",
    "\n",
    "#Now on to figuring out theta2.  There must be a triangle with sides\n",
    "#0.35, dst1, and third side with the magnitude of the distance between\n",
    "#joint 2 and joint 4.  This triangle has vertices at joints 1, 2, and 4\n",
    "#therefore  2*pi minus the angle at joint 2 gives us theta2:\n",
    "\n",
    "#first figure out distance between joints 1 and 4:\n",
    "dst2 = sqrt((newx)**2 + (newz - .33)**2)\n",
    "dst2ch = sqrt(2.39**2 + 1.25**2)\n",
    "#Now use law of cosines again:\n",
    "theta2 = atan2(newz - 0.75, newx - 0.35)\n",
    "theta4 = acos((L34**2 - L2**2 - dst1**2)/(-2*L2*dst1))\n",
    "theta2 = theta2 + theta4\n",
    "theta2 = -theta2\n",
    "theta2 = theta2 + np.pi/2\n",
    "\n",
    "\n",
    "#Again because of the positioning we must make an adjustment to theta2:\n",
    "\n",
    "theta2a = np.pi/2 - theta2\n",
    "\n",
    "\n",
    "print(str(newx) + ' ' + str(rwc0newy) + ' ' + str(newz))\n",
    "print(str(dst1) + ' ' + str(dst1ch))\n",
    "print(str(theta3))\n",
    "print(str(theta2))\n",
    "print(str(theta2a))\n",
    "print(str(dst2))\n",
    "print(str(dst1))\n",
    "print(str(theta1))\n",
    "rwc0"
   ]
  },
  {
   "cell_type": "code",
   "execution_count": 18,
   "metadata": {},
   "outputs": [
    {
     "data": {
      "text/plain": [
       "Matrix([\n",
       "[ -0.53155870045239, -0.725039136458873, -0.437908207934423],\n",
       "[ 0.476505128650798, -0.683400678182582,  0.553088035875911],\n",
       "[-0.700277238201309, 0.0853332506269318,  0.708752443378214]])"
      ]
     },
     "execution_count": 18,
     "metadata": {},
     "output_type": "execute_result"
    }
   ],
   "source": [
    "#Now with theta1, theta2, and theta3 we need to use forward kinematics to determine the value\n",
    "# of R3_0:\n",
    "\n",
    "s = {alpha0:      0,   a0:     0, d1:  0.75,    q1: theta1,   #the base is fixed to the ground\n",
    "     alpha1:  -pi/2,   a1:  0.35, d2:     0,    q2: theta2 - np.pi/2,  #was q2:  q2-pi/2\n",
    "     alpha2:      0,   a2:  1.25, d3:     0,    q3: theta3\n",
    "     }\n",
    "\n",
    "# this is wrong:     s = {q1: 0, q2: theta1, q3: theta2, q4: theta3}\n",
    "\n",
    "T0_1 = Matrix([[             cos(q1),            -sin(q1),             0,              a0],\n",
    "              [ sin(q1)*cos(alpha0), cos(q1)*cos(alpha0),  -sin(alpha0),  -sin(alpha0)*d1],\n",
    "              [ sin(q1)*sin(alpha0), cos(q1)*sin(alpha0),   cos(alpha0),   cos(alpha0)*d1],\n",
    "              [                   0,                   0,             0,                1]])\n",
    "\n",
    "T0_1 = T0_1.subs(s)\n",
    "\n",
    "T1_2 = Matrix([[             cos(q2),            -sin(q2),             0,              a1],\n",
    "              [ sin(q2)*cos(alpha1), cos(q2)*cos(alpha1),  -sin(alpha1),  -sin(alpha1)*d2],\n",
    "              [ sin(q2)*sin(alpha1), cos(q2)*sin(alpha1),   cos(alpha1),   cos(alpha1)*d2],\n",
    "              [                   0,                   0,             0,                1]])\n",
    "\n",
    "T1_2 = T1_2.subs(s)\n",
    "\n",
    "T2_3 = Matrix([[             cos(q3),            -sin(q3),             0,              a2],\n",
    "              [ sin(q3)*cos(alpha2), cos(q3)*cos(alpha2),  -sin(alpha2),  -sin(alpha2)*d3],\n",
    "              [ sin(q3)*sin(alpha2), cos(q3)*sin(alpha2),   cos(alpha2),   cos(alpha2)*d3],\n",
    "              [                   0,                   0,             0,                1]])\n",
    "\n",
    "T2_3 = T2_3.subs(s)\n",
    "\n",
    "# T3_4 = Matrix([[             cos(q4),            -sin(q4),             0,              a3],\n",
    "   #           [ sin(q4)*cos(alpha3), cos(q4)*cos(alpha3),  -sin(alpha3),  -sin(alpha3)*d4],\n",
    "    #          [ sin(q4)*sin(alpha3), cos(q4)*sin(alpha3),   cos(alpha3),   cos(alpha3)*d4],\n",
    "     #         [                   0,                   0,             0,                1]])\n",
    "\n",
    "# T3_4 = T3_4.subs(s)\n",
    "\n",
    "T0_2 = simplify(T0_1*T1_2)\n",
    "T0_3 = simplify(T0_2*T2_3)\n",
    "# T0_4 = simplify(T0_3*T3_4)\n",
    "\n",
    "#First Need to slice T0_3 in order to get R0_3, then can \n",
    "#calculate R3_6:\n",
    "\n",
    "\n",
    "R3_0 = T0_3[0:3, 0:3]\n",
    "R6_3 = R3_0.T*R6_0\n",
    "#R3_6 = R6_3.T\n",
    "#R3_6 = R6_3\n",
    "\n",
    "#Convert sympy slices to indices\n",
    "\n",
    "r_12 = R6_3[0,1]\n",
    "r_13 = R6_3[0,2]\n",
    "r_21 = R6_3[1,0]\n",
    "r_22 = R6_3[1,1]\n",
    "r_23 = R6_3[1,2]\n",
    "r_31 = R6_3[2,0]\n",
    "r_32 = R6_3[2,1]\n",
    "r_33 = R6_3[2,2]\n",
    "\n",
    "#But R3_6 is an intrinsic Y-Z-Y rotation using Link 3 as the baseline\n",
    "#coordinate system.  We then must make the appropriate equalities according to the\n",
    "#printout for the product Y1*Z1*Y2\n",
    "\n",
    "#theta4 = atan2(r_32, -r_12)\n",
    "#theta5 = atan2(sqrt(r_12**2 + r_22**2), r_32)\n",
    "#theta6 = atan2(r_23, r_21)\n",
    "\n",
    "#theta4 = atan2(r_23, -r_21)\n",
    "#theta5 = atan2(sqrt(r_12**2 + r_32**2), r_22)\n",
    "#theta6 = atan2(r_32, r_12)\n",
    "theta4 = atan2(r_33, -r_13)\n",
    "theta4.evalf()\n",
    "theta5 = atan2(sqrt(r_21**2 + r_22**2), r_23)\n",
    "theta5.evalf()\n",
    "theta6 = atan2(-r_22, r_21)\n",
    "theta6.evalf()\n",
    "#theta1-6: 0.4, 0.2, 0.2, 1, 1, 1\n",
    "T0_3\n",
    "R3_0\n",
    "R6_3\n",
    "#tan2(-0.318833948160717, 1.22326965944292)"
   ]
  },
  {
   "cell_type": "code",
   "execution_count": 19,
   "metadata": {},
   "outputs": [
    {
     "name": "stdout",
     "output_type": "stream",
     "text": [
      "0.404667584932112  0.199116669328523 0.238793668159834 1.01734948716556 0.984730050271515  0.961914441347874\n"
     ]
    }
   ],
   "source": [
    "print(str(theta1) + '  ' + str(theta2) + ' ' + str(theta3) + ' ' + str(theta4) + ' ' + str(theta5) + '  ' + str(theta6)) "
   ]
  },
  {
   "cell_type": "code",
   "execution_count": 20,
   "metadata": {},
   "outputs": [
    {
     "name": "stdout",
     "output_type": "stream",
     "text": [
      "0.984730050271515\n"
     ]
    }
   ],
   "source": [
    "print(str(theta5))"
   ]
  },
  {
   "cell_type": "code",
   "execution_count": 21,
   "metadata": {},
   "outputs": [
    {
     "name": "stdout",
     "output_type": "stream",
     "text": [
      "1.01734948716556\n"
     ]
    }
   ],
   "source": [
    "print(str(theta4))"
   ]
  },
  {
   "cell_type": "code",
   "execution_count": 22,
   "metadata": {},
   "outputs": [
    {
     "name": "stdout",
     "output_type": "stream",
     "text": [
      "0.961914441347874\n"
     ]
    }
   ],
   "source": [
    "print(str(theta6))"
   ]
  },
  {
   "cell_type": "code",
   "execution_count": 42,
   "metadata": {},
   "outputs": [
    {
     "name": "stdout",
     "output_type": "stream",
     "text": [
      "Matrix([[1.00000000000000, 0, 0], [0, 0, 1.00000000000000], [0, -1.00000000000000, 0]])\n"
     ]
    }
   ],
   "source": [
    "T3_6 = T3_4*T4_5*T5_6\n",
    "print(T3_6[0:3, 0:3].evalf())"
   ]
  },
  {
   "cell_type": "code",
   "execution_count": null,
   "metadata": {
    "collapsed": true
   },
   "outputs": [],
   "source": [
    "s = {alpha0:      0,   a0:     0, d1: 0.75,     q1: 0,   #the base is fixed to the ground\n",
    "     alpha1:  -pi/2,   a1:  0.35, d2:     0,    q2:  -pi/2,  #was q2:  q2-pi/2\n",
    "     alpha2:      0,   a2:  1.25, d3:     0,    \n",
    "     alpha3:  -pi/2,   a3:-0.054, d4:  1.50,    \n",
    "     alpha4:   pi/2,   a4:     0, d5:     0,    \n",
    "     alpha5:  -pi/2,   a5:     0, d6:     0,    \n",
    "     alpha6:      0,   a6:     0, d7: 0.303}\n",
    "\n",
    "T3_4 = Matrix([[             cos(q4),            -sin(q4),             0,              a3],\n",
    "              [ sin(q4)*cos(alpha3), cos(q4)*cos(alpha3),  -sin(alpha3),  -sin(alpha3)*d4],\n",
    "              [ sin(q4)*sin(alpha3), cos(q4)*sin(alpha3),   cos(alpha3),   cos(alpha3)*d4],\n",
    "              [                   0,                   0,             0,                1]])\n",
    "\n",
    "T3_4 = T3_4.subs(s)\n",
    "\n",
    "T4_5 = Matrix([[             cos(q5),            -sin(q5),             0,              a4],\n",
    "              [ sin(q5)*cos(alpha4), cos(q5)*cos(alpha4),  -sin(alpha4),  -sin(alpha4)*d5],\n",
    "              [ sin(q5)*sin(alpha4), cos(q5)*sin(alpha4),   cos(alpha4),   cos(alpha4)*d5],\n",
    "              [                   0,                   0,             0,                1]])\n",
    "\n",
    "T4_5 = T4_5.subs(s)\n",
    "\n",
    "T5_6 = Matrix([[             cos(q6),            -sin(q6),             0,              a5],\n",
    "              [ sin(q6)*cos(alpha5), cos(q6)*cos(alpha5),  -sin(alpha5),  -sin(alpha5)*d6],\n",
    "              [ sin(q6)*sin(alpha5), cos(q6)*sin(alpha5),   cos(alpha5),   cos(alpha5)*d6],\n",
    "              [                   0,                   0,             0,                1]])\n",
    "\n",
    "T5_6 = T5_6.subs(s)\n",
    "\n",
    "\n",
    "s = {alpha0:      0,   a0:     0, d1: 0.75,     q1: 0,   #the base is fixed to the ground\n",
    "     alpha1:  -pi/2,   a1:  0.35, d2:     0,    q2:  -pi/2,  #was q2:  q2-pi/2\n",
    "     alpha2:      0,   a2:  1.25, d3:     0,    \n",
    "     alpha3:  -pi/2,   a3:-0.054, d4:  1.50,    \n",
    "     alpha4:   pi/2,   a4:     0, d5:     0,    \n",
    "     alpha5:  -pi/2,   a5:     0, d6:     0,    \n",
    "     alpha6:      0,   a6:     0, d7: 0.303}"
   ]
  },
  {
   "cell_type": "code",
   "execution_count": null,
   "metadata": {
    "collapsed": true
   },
   "outputs": [],
   "source": [
    "T3_6 = T3_4*T4_5*T5_6\n",
    "print(T3_6[0:3, 0:3])"
   ]
  },
  {
   "cell_type": "code",
   "execution_count": null,
   "metadata": {
    "collapsed": true
   },
   "outputs": [],
   "source": []
  }
 ],
 "metadata": {
  "kernelspec": {
   "display_name": "Python 3",
   "language": "python",
   "name": "python3"
  },
  "language_info": {
   "codemirror_mode": {
    "name": "ipython",
    "version": 3
   },
   "file_extension": ".py",
   "mimetype": "text/x-python",
   "name": "python",
   "nbconvert_exporter": "python",
   "pygments_lexer": "ipython3",
   "version": "3.5.2"
  },
  "widgets": {
   "state": {},
   "version": "1.1.2"
  }
 },
 "nbformat": 4,
 "nbformat_minor": 2
}
